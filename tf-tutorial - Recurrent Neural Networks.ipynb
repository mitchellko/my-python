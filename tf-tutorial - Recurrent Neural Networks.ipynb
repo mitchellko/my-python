{
 "cells": [
  {
   "cell_type": "markdown",
   "metadata": {},
   "source": [
    "# https://www.tensorflow.org/tutorials/recurrent"
   ]
  },
  {
   "cell_type": "markdown",
   "metadata": {},
   "source": [
    "https://github.com/tensorflow/models/blob/master/tutorials/rnn/ptb/ptb_word_lm.py"
   ]
  },
  {
   "cell_type": "code",
   "execution_count": 1,
   "metadata": {
    "collapsed": true
   },
   "outputs": [],
   "source": [
    "from __future__ import absolute_import\n",
    "from __future__ import division\n",
    "from __future__ import print_function"
   ]
  },
  {
   "cell_type": "code",
   "execution_count": 2,
   "metadata": {
    "collapsed": true
   },
   "outputs": [],
   "source": [
    "import inspect\n",
    "import time"
   ]
  },
  {
   "cell_type": "code",
   "execution_count": 3,
   "metadata": {
    "collapsed": true
   },
   "outputs": [],
   "source": [
    "import numpy as np\n",
    "import tensorflow as tf"
   ]
  },
  {
   "cell_type": "code",
   "execution_count": 4,
   "metadata": {
    "collapsed": true
   },
   "outputs": [],
   "source": [
    "import reader"
   ]
  },
  {
   "cell_type": "code",
   "execution_count": 5,
   "metadata": {
    "collapsed": true
   },
   "outputs": [],
   "source": [
    "flags = tf.flags\n",
    "logging = tf.logging"
   ]
  },
  {
   "cell_type": "code",
   "execution_count": 6,
   "metadata": {},
   "outputs": [],
   "source": [
    "flags.DEFINE_string(\n",
    "    \"model\", \"small\",\n",
    "    \"A type of model. Possible options are: small, medium, large.\")\n",
    "flags.DEFINE_string(\"data_path\", \".\\\\simple-examples\\\\data\",\n",
    "                    \"Where the training/test data is stored.\")\n",
    "flags.DEFINE_string(\"save_path\", None,\n",
    "                    \"Model output directory.\")\n",
    "flags.DEFINE_bool(\"use_fp16\", False,\n",
    "                  \"Train using 16-bit floats instead of 32bit floats\")"
   ]
  },
  {
   "cell_type": "code",
   "execution_count": 7,
   "metadata": {
    "collapsed": true
   },
   "outputs": [],
   "source": [
    "FLAGS = flags.FLAGS"
   ]
  },
  {
   "cell_type": "code",
   "execution_count": 8,
   "metadata": {
    "collapsed": true
   },
   "outputs": [],
   "source": [
    "def data_type():\n",
    "  return tf.float16 if FLAGS.use_fp16 else tf.float32"
   ]
  },
  {
   "cell_type": "code",
   "execution_count": 9,
   "metadata": {
    "collapsed": true
   },
   "outputs": [],
   "source": [
    "class PTBInput(object):\n",
    "  \"\"\"The input data.\"\"\"\n",
    "\n",
    "  def __init__(self, config, data, name=None):\n",
    "    self.batch_size = batch_size = config.batch_size\n",
    "    self.num_steps = num_steps = config.num_steps\n",
    "    self.epoch_size = ((len(data) // batch_size) - 1) // num_steps\n",
    "    self.input_data, self.targets = reader.ptb_producer(\n",
    "        data, batch_size, num_steps, name=name)"
   ]
  },
  {
   "cell_type": "code",
   "execution_count": 10,
   "metadata": {
    "collapsed": true
   },
   "outputs": [],
   "source": [
    "class PTBModel(object):\n",
    "  \"\"\"The PTB model.\"\"\"\n",
    "\n",
    "  def __init__(self, is_training, config, input_):\n",
    "    self._input = input_\n",
    "\n",
    "    batch_size = input_.batch_size\n",
    "    num_steps = input_.num_steps\n",
    "    size = config.hidden_size\n",
    "    vocab_size = config.vocab_size\n",
    "\n",
    "    # Slightly better results can be obtained with forget gate biases\n",
    "    # initialized to 1 but the hyperparameters of the model would need to be\n",
    "    # different than reported in the paper.\n",
    "    def lstm_cell():\n",
    "      # With the latest TensorFlow source code (as of Mar 27, 2017),\n",
    "      # the BasicLSTMCell will need a reuse parameter which is unfortunately not\n",
    "      # defined in TensorFlow 1.0. To maintain backwards compatibility, we add\n",
    "      # an argument check here:\n",
    "      if 'reuse' in inspect.getargspec(\n",
    "          tf.contrib.rnn.BasicLSTMCell.__init__).args:\n",
    "        return tf.contrib.rnn.BasicLSTMCell(\n",
    "            size, forget_bias=0.0, state_is_tuple=True,\n",
    "            reuse=tf.get_variable_scope().reuse)\n",
    "      else:\n",
    "        return tf.contrib.rnn.BasicLSTMCell(\n",
    "            size, forget_bias=0.0, state_is_tuple=True)\n",
    "    attn_cell = lstm_cell\n",
    "    if is_training and config.keep_prob < 1:\n",
    "      def attn_cell():\n",
    "        return tf.contrib.rnn.DropoutWrapper(\n",
    "            lstm_cell(), output_keep_prob=config.keep_prob)\n",
    "    cell = tf.contrib.rnn.MultiRNNCell(\n",
    "        [attn_cell() for _ in range(config.num_layers)], state_is_tuple=True)\n",
    "\n",
    "    self._initial_state = cell.zero_state(batch_size, data_type())\n",
    "\n",
    "    with tf.device(\"/cpu:0\"):\n",
    "      embedding = tf.get_variable(\n",
    "          \"embedding\", [vocab_size, size], dtype=data_type())\n",
    "      inputs = tf.nn.embedding_lookup(embedding, input_.input_data)\n",
    "\n",
    "    if is_training and config.keep_prob < 1:\n",
    "      inputs = tf.nn.dropout(inputs, config.keep_prob)\n",
    "\n",
    "    # Simplified version of models/tutorials/rnn/rnn.py's rnn().\n",
    "    # This builds an unrolled LSTM for tutorial purposes only.\n",
    "    # In general, use the rnn() or state_saving_rnn() from rnn.py.\n",
    "    #\n",
    "    # The alternative version of the code below is:\n",
    "    #\n",
    "    # inputs = tf.unstack(inputs, num=num_steps, axis=1)\n",
    "    # outputs, state = tf.contrib.rnn.static_rnn(\n",
    "    #     cell, inputs, initial_state=self._initial_state)\n",
    "    outputs = []\n",
    "    state = self._initial_state\n",
    "    with tf.variable_scope(\"RNN\"):\n",
    "      for time_step in range(num_steps):\n",
    "        if time_step > 0: tf.get_variable_scope().reuse_variables()\n",
    "        (cell_output, state) = cell(inputs[:, time_step, :], state)\n",
    "        outputs.append(cell_output)\n",
    "\n",
    "    output = tf.reshape(tf.stack(axis=1, values=outputs), [-1, size])\n",
    "    softmax_w = tf.get_variable(\n",
    "        \"softmax_w\", [size, vocab_size], dtype=data_type())\n",
    "    softmax_b = tf.get_variable(\"softmax_b\", [vocab_size], dtype=data_type())\n",
    "    logits = tf.matmul(output, softmax_w) + softmax_b\n",
    "\n",
    "    # Reshape logits to be 3-D tensor for sequence loss\n",
    "    logits = tf.reshape(logits, [batch_size, num_steps, vocab_size])\n",
    "\n",
    "    # use the contrib sequence loss and average over the batches\n",
    "    loss = tf.contrib.seq2seq.sequence_loss(\n",
    "        logits,\n",
    "        input_.targets,\n",
    "        tf.ones([batch_size, num_steps], dtype=data_type()),\n",
    "        average_across_timesteps=False,\n",
    "        average_across_batch=True\n",
    "    )\n",
    "\n",
    "    # update the cost variables\n",
    "    self._cost = cost = tf.reduce_sum(loss)\n",
    "    self._final_state = state\n",
    "\n",
    "    if not is_training:\n",
    "      return\n",
    "\n",
    "    self._lr = tf.Variable(0.0, trainable=False)\n",
    "    tvars = tf.trainable_variables()\n",
    "    grads, _ = tf.clip_by_global_norm(tf.gradients(cost, tvars),\n",
    "                                      config.max_grad_norm)\n",
    "    optimizer = tf.train.GradientDescentOptimizer(self._lr)\n",
    "    self._train_op = optimizer.apply_gradients(\n",
    "        zip(grads, tvars),\n",
    "        global_step=tf.contrib.framework.get_or_create_global_step())\n",
    "\n",
    "    self._new_lr = tf.placeholder(\n",
    "        tf.float32, shape=[], name=\"new_learning_rate\")\n",
    "    self._lr_update = tf.assign(self._lr, self._new_lr)\n",
    "\n",
    "  def assign_lr(self, session, lr_value):\n",
    "    session.run(self._lr_update, feed_dict={self._new_lr: lr_value})\n",
    "\n",
    "  @property\n",
    "  def input(self):\n",
    "    return self._input\n",
    "\n",
    "  @property\n",
    "  def initial_state(self):\n",
    "    return self._initial_state\n",
    "\n",
    "  @property\n",
    "  def cost(self):\n",
    "    return self._cost\n",
    "\n",
    "  @property\n",
    "  def final_state(self):\n",
    "    return self._final_state\n",
    "\n",
    "  @property\n",
    "  def lr(self):\n",
    "    return self._lr\n",
    "\n",
    "  @property\n",
    "  def train_op(self):\n",
    "    return self._train_op"
   ]
  },
  {
   "cell_type": "code",
   "execution_count": 11,
   "metadata": {
    "collapsed": true
   },
   "outputs": [],
   "source": [
    "class SmallConfig(object):\n",
    "  \"\"\"Small config.\"\"\"\n",
    "  init_scale = 0.1\n",
    "  learning_rate = 1.0\n",
    "  max_grad_norm = 5\n",
    "  num_layers = 2\n",
    "  num_steps = 20\n",
    "  hidden_size = 200\n",
    "  max_epoch = 4\n",
    "  max_max_epoch = 13\n",
    "  keep_prob = 1.0\n",
    "  lr_decay = 0.5\n",
    "  batch_size = 20\n",
    "  vocab_size = 10000"
   ]
  },
  {
   "cell_type": "code",
   "execution_count": 12,
   "metadata": {
    "collapsed": true
   },
   "outputs": [],
   "source": [
    "class MediumConfig(object):\n",
    "  \"\"\"Medium config.\"\"\"\n",
    "  init_scale = 0.05\n",
    "  learning_rate = 1.0\n",
    "  max_grad_norm = 5\n",
    "  num_layers = 2\n",
    "  num_steps = 35\n",
    "  hidden_size = 650\n",
    "  max_epoch = 6\n",
    "  max_max_epoch = 39\n",
    "  keep_prob = 0.5\n",
    "  lr_decay = 0.8\n",
    "  batch_size = 20\n",
    "  vocab_size = 10000"
   ]
  },
  {
   "cell_type": "code",
   "execution_count": 13,
   "metadata": {
    "collapsed": true
   },
   "outputs": [],
   "source": [
    "class LargeConfig(object):\n",
    "  \"\"\"Large config.\"\"\"\n",
    "  init_scale = 0.04\n",
    "  learning_rate = 1.0\n",
    "  max_grad_norm = 10\n",
    "  num_layers = 2\n",
    "  num_steps = 35\n",
    "  hidden_size = 1500\n",
    "  max_epoch = 14\n",
    "  max_max_epoch = 55\n",
    "  keep_prob = 0.35\n",
    "  lr_decay = 1 / 1.15\n",
    "  batch_size = 20\n",
    "  vocab_size = 10000"
   ]
  },
  {
   "cell_type": "code",
   "execution_count": 14,
   "metadata": {
    "collapsed": true
   },
   "outputs": [],
   "source": [
    "class TestConfig(object):\n",
    "  \"\"\"Tiny config, for testing.\"\"\"\n",
    "  init_scale = 0.1\n",
    "  learning_rate = 1.0\n",
    "  max_grad_norm = 1\n",
    "  num_layers = 1\n",
    "  num_steps = 2\n",
    "  hidden_size = 2\n",
    "  max_epoch = 1\n",
    "  max_max_epoch = 1\n",
    "  keep_prob = 1.0\n",
    "  lr_decay = 0.5\n",
    "  batch_size = 20\n",
    "  vocab_size = 10000"
   ]
  },
  {
   "cell_type": "code",
   "execution_count": 15,
   "metadata": {
    "collapsed": true
   },
   "outputs": [],
   "source": [
    "def run_epoch(session, model, eval_op=None, verbose=False):\n",
    "  \"\"\"Runs the model on the given data.\"\"\"\n",
    "  start_time = time.time()\n",
    "  costs = 0.0\n",
    "  iters = 0\n",
    "  state = session.run(model.initial_state)\n",
    "\n",
    "  fetches = {\n",
    "      \"cost\": model.cost,\n",
    "      \"final_state\": model.final_state,\n",
    "  }\n",
    "  if eval_op is not None:\n",
    "    fetches[\"eval_op\"] = eval_op\n",
    "\n",
    "  for step in range(model.input.epoch_size):\n",
    "    feed_dict = {}\n",
    "    for i, (c, h) in enumerate(model.initial_state):\n",
    "      feed_dict[c] = state[i].c\n",
    "      feed_dict[h] = state[i].h\n",
    "\n",
    "    vals = session.run(fetches, feed_dict)\n",
    "    cost = vals[\"cost\"]\n",
    "    state = vals[\"final_state\"]\n",
    "\n",
    "    costs += cost\n",
    "    iters += model.input.num_steps\n",
    "\n",
    "    if verbose and step % (model.input.epoch_size // 10) == 10:\n",
    "      print(\"%.3f perplexity: %.3f speed: %.0f wps\" %\n",
    "            (step * 1.0 / model.input.epoch_size, np.exp(costs / iters),\n",
    "             iters * model.input.batch_size / (time.time() - start_time)))\n",
    "\n",
    "  return np.exp(costs / iters)"
   ]
  },
  {
   "cell_type": "code",
   "execution_count": 16,
   "metadata": {
    "collapsed": true
   },
   "outputs": [],
   "source": [
    "def get_config():\n",
    "  if FLAGS.model == \"small\":\n",
    "    return SmallConfig()\n",
    "  elif FLAGS.model == \"medium\":\n",
    "    return MediumConfig()\n",
    "  elif FLAGS.model == \"large\":\n",
    "    return LargeConfig()\n",
    "  elif FLAGS.model == \"test\":\n",
    "    return TestConfig()\n",
    "  else:\n",
    "    raise ValueError(\"Invalid model: %s\", FLAGS.model)"
   ]
  },
  {
   "cell_type": "markdown",
   "metadata": {},
   "source": [
    "# Seperated Code Segments of main() in original Codes"
   ]
  },
  {
   "cell_type": "code",
   "execution_count": 17,
   "metadata": {},
   "outputs": [
    {
     "name": "stdout",
     "output_type": "stream",
     "text": [
      ".\\simple-examples\\data\n"
     ]
    }
   ],
   "source": [
    "print( FLAGS.data_path)"
   ]
  },
  {
   "cell_type": "code",
   "execution_count": 18,
   "metadata": {
    "collapsed": true
   },
   "outputs": [],
   "source": [
    "if not FLAGS.data_path:\n",
    "    raise ValueError(\"Must set --data_path to PTB data directory\")"
   ]
  },
  {
   "cell_type": "code",
   "execution_count": 19,
   "metadata": {},
   "outputs": [],
   "source": [
    "raw_data = reader.ptb_raw_data(FLAGS.data_path)"
   ]
  },
  {
   "cell_type": "code",
   "execution_count": 20,
   "metadata": {
    "collapsed": true
   },
   "outputs": [],
   "source": [
    "train_data, valid_data, test_data, _ = raw_data"
   ]
  },
  {
   "cell_type": "code",
   "execution_count": 21,
   "metadata": {
    "collapsed": true
   },
   "outputs": [],
   "source": [
    "config = get_config()\n",
    "eval_config = get_config()\n",
    "eval_config.batch_size = 1\n",
    "eval_config.num_steps = 1"
   ]
  },
  {
   "cell_type": "code",
   "execution_count": 22,
   "metadata": {},
   "outputs": [
    {
     "name": "stderr",
     "output_type": "stream",
     "text": [
      "E:\\Anaconda3\\envs\\tf\\lib\\site-packages\\ipykernel_launcher.py:21: DeprecationWarning: inspect.getargspec() is deprecated, use inspect.signature() instead\n"
     ]
    },
    {
     "name": "stdout",
     "output_type": "stream",
     "text": [
      "INFO:tensorflow:Summary name Training Loss is illegal; using Training_Loss instead.\n",
      "INFO:tensorflow:Summary name Learning Rate is illegal; using Learning_Rate instead.\n",
      "INFO:tensorflow:Summary name Validation Loss is illegal; using Validation_Loss instead.\n",
      "INFO:tensorflow:Starting standard services.\n",
      "WARNING:tensorflow:Standard services need a 'logdir' passed to the SessionManager\n",
      "INFO:tensorflow:Starting queue runners.\n",
      "Epoch: 1 Learning rate: 1.000\n",
      "0.004 perplexity: 5534.675 speed: 640 wps\n",
      "0.104 perplexity: 840.997 speed: 748 wps\n",
      "0.204 perplexity: 623.542 speed: 758 wps\n",
      "0.304 perplexity: 503.755 speed: 759 wps\n",
      "0.404 perplexity: 434.500 speed: 760 wps\n",
      "0.504 perplexity: 389.191 speed: 762 wps\n",
      "0.604 perplexity: 350.386 speed: 765 wps\n",
      "0.703 perplexity: 323.848 speed: 768 wps\n",
      "0.803 perplexity: 302.931 speed: 769 wps\n",
      "0.903 perplexity: 283.532 speed: 770 wps\n",
      "Epoch: 1 Train Perplexity: 269.055\n",
      "Epoch: 1 Valid Perplexity: 175.784\n",
      "Epoch: 2 Learning rate: 1.000\n",
      "0.004 perplexity: 208.609 speed: 743 wps\n",
      "0.104 perplexity: 150.841 speed: 709 wps\n",
      "0.204 perplexity: 158.167 speed: 714 wps\n",
      "0.304 perplexity: 153.023 speed: 706 wps\n",
      "0.404 perplexity: 150.176 speed: 704 wps\n",
      "0.504 perplexity: 147.803 speed: 705 wps\n",
      "0.604 perplexity: 143.178 speed: 707 wps\n",
      "0.703 perplexity: 141.077 speed: 708 wps\n",
      "0.803 perplexity: 139.089 speed: 711 wps\n",
      "0.903 perplexity: 135.385 speed: 713 wps\n",
      "Epoch: 2 Train Perplexity: 133.318\n",
      "Epoch: 2 Valid Perplexity: 142.095\n",
      "Epoch: 3 Learning rate: 1.000\n",
      "0.004 perplexity: 144.680 speed: 770 wps\n",
      "0.104 perplexity: 105.212 speed: 744 wps\n",
      "0.204 perplexity: 114.119 speed: 743 wps\n",
      "0.304 perplexity: 111.265 speed: 740 wps\n",
      "0.404 perplexity: 110.343 speed: 725 wps\n",
      "0.504 perplexity: 109.535 speed: 714 wps\n",
      "0.604 perplexity: 106.924 speed: 695 wps\n",
      "0.703 perplexity: 106.291 speed: 679 wps\n",
      "0.803 perplexity: 105.634 speed: 669 wps\n",
      "0.903 perplexity: 103.341 speed: 664 wps\n",
      "Epoch: 3 Train Perplexity: 102.331\n",
      "Epoch: 3 Valid Perplexity: 131.690\n",
      "Epoch: 4 Learning rate: 1.000\n",
      "0.004 perplexity: 116.897 speed: 642 wps\n",
      "0.104 perplexity: 84.746 speed: 640 wps\n",
      "0.204 perplexity: 93.290 speed: 630 wps\n",
      "0.304 perplexity: 91.098 speed: 631 wps\n",
      "0.404 perplexity: 90.665 speed: 627 wps\n",
      "0.504 perplexity: 90.295 speed: 625 wps\n",
      "0.604 perplexity: 88.531 speed: 619 wps\n",
      "0.703 perplexity: 88.332 speed: 616 wps\n",
      "0.803 perplexity: 88.089 speed: 618 wps\n",
      "0.903 perplexity: 86.427 speed: 621 wps\n",
      "Epoch: 4 Train Perplexity: 85.833\n",
      "Epoch: 4 Valid Perplexity: 127.036\n",
      "Epoch: 5 Learning rate: 0.500\n",
      "0.004 perplexity: 101.452 speed: 623 wps\n",
      "0.104 perplexity: 71.075 speed: 616 wps\n",
      "0.204 perplexity: 77.211 speed: 625 wps\n",
      "0.304 perplexity: 74.333 speed: 627 wps\n",
      "0.404 perplexity: 73.171 speed: 629 wps\n",
      "0.504 perplexity: 72.163 speed: 631 wps\n",
      "0.604 perplexity: 70.110 speed: 633 wps\n",
      "0.703 perplexity: 69.362 speed: 636 wps\n",
      "0.803 perplexity: 68.568 speed: 636 wps\n",
      "0.903 perplexity: 66.642 speed: 635 wps\n",
      "Epoch: 5 Train Perplexity: 65.633\n",
      "Epoch: 5 Valid Perplexity: 117.697\n",
      "Epoch: 6 Learning rate: 0.250\n",
      "0.004 perplexity: 81.039 speed: 643 wps\n",
      "0.104 perplexity: 58.537 speed: 640 wps\n",
      "0.204 perplexity: 63.914 speed: 632 wps\n",
      "0.304 perplexity: 61.424 speed: 627 wps\n",
      "0.404 perplexity: 60.333 speed: 624 wps\n",
      "0.504 perplexity: 59.421 speed: 622 wps\n",
      "0.604 perplexity: 57.646 speed: 620 wps\n",
      "0.703 perplexity: 56.923 speed: 619 wps\n",
      "0.803 perplexity: 56.144 speed: 620 wps\n",
      "0.903 perplexity: 54.420 speed: 623 wps\n",
      "Epoch: 6 Train Perplexity: 53.434\n",
      "Epoch: 6 Valid Perplexity: 117.271\n",
      "Epoch: 7 Learning rate: 0.125\n",
      "0.004 perplexity: 71.626 speed: 638 wps\n",
      "0.104 perplexity: 52.015 speed: 621 wps\n",
      "0.204 perplexity: 56.898 speed: 624 wps\n",
      "0.304 perplexity: 54.634 speed: 629 wps\n",
      "0.404 perplexity: 53.669 speed: 633 wps\n",
      "0.504 perplexity: 52.819 speed: 637 wps\n",
      "0.604 perplexity: 51.200 speed: 639 wps\n",
      "0.703 perplexity: 50.506 speed: 640 wps\n",
      "0.803 perplexity: 49.755 speed: 640 wps\n",
      "0.903 perplexity: 48.151 speed: 642 wps\n",
      "Epoch: 7 Train Perplexity: 47.213\n",
      "Epoch: 7 Valid Perplexity: 118.249\n",
      "Epoch: 8 Learning rate: 0.062\n",
      "0.004 perplexity: 66.633 speed: 616 wps\n",
      "0.104 perplexity: 48.655 speed: 631 wps\n",
      "0.204 perplexity: 53.333 speed: 634 wps\n",
      "0.304 perplexity: 51.180 speed: 645 wps\n",
      "0.404 perplexity: 50.282 speed: 651 wps\n",
      "0.504 perplexity: 49.475 speed: 649 wps\n",
      "0.604 perplexity: 47.936 speed: 648 wps\n",
      "0.703 perplexity: 47.257 speed: 643 wps\n",
      "0.803 perplexity: 46.516 speed: 640 wps\n",
      "0.903 perplexity: 44.977 speed: 640 wps\n",
      "Epoch: 8 Train Perplexity: 44.065\n",
      "Epoch: 8 Valid Perplexity: 118.995\n",
      "Epoch: 9 Learning rate: 0.031\n",
      "0.004 perplexity: 64.048 speed: 634 wps\n",
      "0.104 perplexity: 46.896 speed: 626 wps\n",
      "0.204 perplexity: 51.447 speed: 629 wps\n",
      "0.304 perplexity: 49.351 speed: 633 wps\n",
      "0.404 perplexity: 48.491 speed: 638 wps\n",
      "0.504 perplexity: 47.712 speed: 633 wps\n",
      "0.604 perplexity: 46.228 speed: 628 wps\n",
      "0.703 perplexity: 45.556 speed: 626 wps\n",
      "0.803 perplexity: 44.818 speed: 627 wps\n",
      "0.903 perplexity: 43.314 speed: 628 wps\n",
      "Epoch: 9 Train Perplexity: 42.411\n",
      "Epoch: 9 Valid Perplexity: 119.335\n",
      "Epoch: 10 Learning rate: 0.016\n",
      "0.004 perplexity: 62.571 speed: 644 wps\n",
      "0.104 perplexity: 45.923 speed: 631 wps\n",
      "0.204 perplexity: 50.416 speed: 635 wps\n",
      "0.304 perplexity: 48.351 speed: 636 wps\n",
      "0.404 perplexity: 47.506 speed: 636 wps\n",
      "0.504 perplexity: 46.743 speed: 637 wps\n",
      "0.604 perplexity: 45.291 speed: 637 wps\n",
      "0.703 perplexity: 44.626 speed: 637 wps\n",
      "0.803 perplexity: 43.888 speed: 638 wps\n",
      "0.903 perplexity: 42.403 speed: 639 wps\n",
      "Epoch: 10 Train Perplexity: 41.507\n",
      "Epoch: 10 Valid Perplexity: 119.166\n",
      "Epoch: 11 Learning rate: 0.008\n",
      "0.004 perplexity: 61.707 speed: 649 wps\n",
      "0.104 perplexity: 45.346 speed: 638 wps\n",
      "0.204 perplexity: 49.821 speed: 637 wps\n",
      "0.304 perplexity: 47.779 speed: 637 wps\n",
      "0.404 perplexity: 46.944 speed: 634 wps\n",
      "0.504 perplexity: 46.193 speed: 631 wps\n",
      "0.604 perplexity: 44.763 speed: 624 wps\n",
      "0.703 perplexity: 44.107 speed: 621 wps\n",
      "0.803 perplexity: 43.371 speed: 619 wps\n",
      "0.903 perplexity: 41.897 speed: 617 wps\n",
      "Epoch: 11 Train Perplexity: 41.007\n",
      "Epoch: 11 Valid Perplexity: 118.822\n",
      "Epoch: 12 Learning rate: 0.004\n",
      "0.004 perplexity: 61.235 speed: 614 wps\n",
      "0.104 perplexity: 45.010 speed: 629 wps\n",
      "0.204 perplexity: 49.488 speed: 624 wps\n",
      "0.304 perplexity: 47.463 speed: 624 wps\n",
      "0.404 perplexity: 46.632 speed: 625 wps\n",
      "0.504 perplexity: 45.886 speed: 626 wps\n",
      "0.604 perplexity: 44.468 speed: 621 wps\n",
      "0.703 perplexity: 43.819 speed: 618 wps\n",
      "0.803 perplexity: 43.089 speed: 619 wps\n",
      "0.903 perplexity: 41.621 speed: 619 wps\n",
      "Epoch: 12 Train Perplexity: 40.735\n",
      "Epoch: 12 Valid Perplexity: 118.536\n",
      "Epoch: 13 Learning rate: 0.002\n",
      "0.004 perplexity: 60.969 speed: 603 wps\n",
      "0.104 perplexity: 44.819 speed: 595 wps\n",
      "0.204 perplexity: 49.300 speed: 605 wps\n",
      "0.304 perplexity: 47.289 speed: 613 wps\n",
      "0.404 perplexity: 46.463 speed: 612 wps\n",
      "0.504 perplexity: 45.719 speed: 609 wps\n",
      "0.604 perplexity: 44.308 speed: 610 wps\n",
      "0.703 perplexity: 43.663 speed: 614 wps\n",
      "0.803 perplexity: 42.937 speed: 616 wps\n",
      "0.903 perplexity: 41.473 speed: 617 wps\n",
      "Epoch: 13 Train Perplexity: 40.590\n",
      "Epoch: 13 Valid Perplexity: 118.366\n",
      "Test Perplexity: 113.944\n"
     ]
    }
   ],
   "source": [
    "with tf.Graph().as_default():\n",
    "    initializer = tf.random_uniform_initializer(-config.init_scale,\n",
    "                                                config.init_scale)\n",
    "\n",
    "    with tf.name_scope(\"Train\"):\n",
    "      train_input = PTBInput(config=config, data=train_data, name=\"TrainInput\")\n",
    "      with tf.variable_scope(\"Model\", reuse=None, initializer=initializer):\n",
    "        m = PTBModel(is_training=True, config=config, input_=train_input)\n",
    "      tf.summary.scalar(\"Training Loss\", m.cost)\n",
    "      tf.summary.scalar(\"Learning Rate\", m.lr)\n",
    "\n",
    "    with tf.name_scope(\"Valid\"):\n",
    "      valid_input = PTBInput(config=config, data=valid_data, name=\"ValidInput\")\n",
    "      with tf.variable_scope(\"Model\", reuse=True, initializer=initializer):\n",
    "        mvalid = PTBModel(is_training=False, config=config, input_=valid_input)\n",
    "      tf.summary.scalar(\"Validation Loss\", mvalid.cost)\n",
    "\n",
    "    with tf.name_scope(\"Test\"):\n",
    "      test_input = PTBInput(config=eval_config, data=test_data, name=\"TestInput\")\n",
    "      with tf.variable_scope(\"Model\", reuse=True, initializer=initializer):\n",
    "        mtest = PTBModel(is_training=False, config=eval_config,\n",
    "                         input_=test_input)\n",
    "\n",
    "    sv = tf.train.Supervisor(logdir=FLAGS.save_path)\n",
    "    with sv.managed_session() as session:\n",
    "      for i in range(config.max_max_epoch):\n",
    "        lr_decay = config.lr_decay ** max(i + 1 - config.max_epoch, 0.0)\n",
    "        m.assign_lr(session, config.learning_rate * lr_decay)\n",
    "\n",
    "        print(\"Epoch: %d Learning rate: %.3f\" % (i + 1, session.run(m.lr)))\n",
    "        train_perplexity = run_epoch(session, m, eval_op=m.train_op,\n",
    "                                     verbose=True)\n",
    "        print(\"Epoch: %d Train Perplexity: %.3f\" % (i + 1, train_perplexity))\n",
    "        valid_perplexity = run_epoch(session, mvalid)\n",
    "        print(\"Epoch: %d Valid Perplexity: %.3f\" % (i + 1, valid_perplexity))\n",
    "\n",
    "      test_perplexity = run_epoch(session, mtest)\n",
    "      print(\"Test Perplexity: %.3f\" % test_perplexity)\n",
    "\n",
    "      if FLAGS.save_path:\n",
    "        print(\"Saving model to %s.\" % FLAGS.save_path)\n",
    "        sv.saver.save(session, FLAGS.save_path, global_step=sv.global_step)"
   ]
  },
  {
   "cell_type": "code",
   "execution_count": 23,
   "metadata": {
    "collapsed": true
   },
   "outputs": [],
   "source": [
    "# Original codes runned in command line, seperated to run in Notebook in above cells.\n",
    "def main(_):\n",
    "  if not FLAGS.data_path:\n",
    "    raise ValueError(\"Must set --data_path to PTB data directory\")\n",
    "\n",
    "  raw_data = reader.ptb_raw_data(FLAGS.data_path)\n",
    "  train_data, valid_data, test_data, _ = raw_data\n",
    "\n",
    "  config = get_config()\n",
    "  eval_config = get_config()\n",
    "  eval_config.batch_size = 1\n",
    "  eval_config.num_steps = 1\n",
    "\n",
    "  with tf.Graph().as_default():\n",
    "    initializer = tf.random_uniform_initializer(-config.init_scale,\n",
    "                                                config.init_scale)\n",
    "\n",
    "    with tf.name_scope(\"Train\"):\n",
    "      train_input = PTBInput(config=config, data=train_data, name=\"TrainInput\")\n",
    "      with tf.variable_scope(\"Model\", reuse=None, initializer=initializer):\n",
    "        m = PTBModel(is_training=True, config=config, input_=train_input)\n",
    "      tf.summary.scalar(\"Training Loss\", m.cost)\n",
    "      tf.summary.scalar(\"Learning Rate\", m.lr)\n",
    "\n",
    "    with tf.name_scope(\"Valid\"):\n",
    "      valid_input = PTBInput(config=config, data=valid_data, name=\"ValidInput\")\n",
    "      with tf.variable_scope(\"Model\", reuse=True, initializer=initializer):\n",
    "        mvalid = PTBModel(is_training=False, config=config, input_=valid_input)\n",
    "      tf.summary.scalar(\"Validation Loss\", mvalid.cost)\n",
    "\n",
    "    with tf.name_scope(\"Test\"):\n",
    "      test_input = PTBInput(config=eval_config, data=test_data, name=\"TestInput\")\n",
    "      with tf.variable_scope(\"Model\", reuse=True, initializer=initializer):\n",
    "        mtest = PTBModel(is_training=False, config=eval_config,\n",
    "                         input_=test_input)\n",
    "\n",
    "    sv = tf.train.Supervisor(logdir=FLAGS.save_path)\n",
    "    with sv.managed_session() as session:\n",
    "      for i in range(config.max_max_epoch):\n",
    "        lr_decay = config.lr_decay ** max(i + 1 - config.max_epoch, 0.0)\n",
    "        m.assign_lr(session, config.learning_rate * lr_decay)\n",
    "\n",
    "        print(\"Epoch: %d Learning rate: %.3f\" % (i + 1, session.run(m.lr)))\n",
    "        train_perplexity = run_epoch(session, m, eval_op=m.train_op,\n",
    "                                     verbose=True)\n",
    "        print(\"Epoch: %d Train Perplexity: %.3f\" % (i + 1, train_perplexity))\n",
    "        valid_perplexity = run_epoch(session, mvalid)\n",
    "        print(\"Epoch: %d Valid Perplexity: %.3f\" % (i + 1, valid_perplexity))\n",
    "\n",
    "      test_perplexity = run_epoch(session, mtest)\n",
    "      print(\"Test Perplexity: %.3f\" % test_perplexity)\n",
    "\n",
    "      if FLAGS.save_path:\n",
    "        print(\"Saving model to %s.\" % FLAGS.save_path)\n",
    "        sv.saver.save(session, FLAGS.save_path, global_step=sv.global_step)\n",
    "if __name__ == \"__main__\":\n",
    "  tf.app.run()"
   ]
  }
 ],
 "metadata": {
  "kernelspec": {
   "display_name": "Python 3",
   "language": "python",
   "name": "python3"
  },
  "language_info": {
   "codemirror_mode": {
    "name": "ipython",
    "version": 3
   },
   "file_extension": ".py",
   "mimetype": "text/x-python",
   "name": "python",
   "nbconvert_exporter": "python",
   "pygments_lexer": "ipython3",
   "version": "3.5.3"
  }
 },
 "nbformat": 4,
 "nbformat_minor": 2
}
